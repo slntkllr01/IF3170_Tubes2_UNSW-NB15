{
 "cells": [
  {
   "cell_type": "code",
   "execution_count": 1,
   "metadata": {},
   "outputs": [],
   "source": [
    "import pandas as pd\n",
    "import numpy as np\n",
    "import matplotlib.pyplot as plt"
   ]
  },
  {
   "cell_type": "code",
   "execution_count": 2,
   "metadata": {},
   "outputs": [],
   "source": [
    "basic_features = pd.read_csv('basic_features_train.csv') \n",
    "time_features = pd.read_csv('time_features_train.csv')\n",
    "content_features = pd.read_csv('content_features_train.csv')\n",
    "additional_features = pd.read_csv('additional_features_train.csv')\n",
    "label_features = pd.read_csv('labels_train.csv')\n",
    "flow_features = pd.read_csv('flow_features_train.csv')\n",
    "\n",
    "merged_train = pd.merge(basic_features, time_features, how='left', on='id')\n",
    "merged_train = pd.merge(merged_train, content_features, how='left', on='id')\n",
    "merged_train = pd.merge(merged_train, additional_features, how='left', on='id')\n",
    "merged_train = pd.merge(merged_train, label_features, how='left', on='id').drop(\"label\", axis='columns')\n",
    "merged_train = pd.merge(merged_train, flow_features, how='left', on='id')"
   ]
  }
 ],
 "metadata": {
  "kernelspec": {
   "display_name": "Python 3",
   "language": "python",
   "name": "python3"
  },
  "language_info": {
   "codemirror_mode": {
    "name": "ipython",
    "version": 3
   },
   "file_extension": ".py",
   "mimetype": "text/x-python",
   "name": "python",
   "nbconvert_exporter": "python",
   "pygments_lexer": "ipython3",
   "version": "3.13.0"
  }
 },
 "nbformat": 4,
 "nbformat_minor": 2
}
