{
 "cells": [
  {
   "cell_type": "code",
   "execution_count": null,
   "metadata": {},
   "outputs": [
    {
     "name": "stdout",
     "output_type": "stream",
     "text": [
      "False\n"
     ]
    }
   ],
   "source": [
    "import pandas as pd\n",
    "import numpy as np\n",
    "import matplotlib.pyplot as plt"
   ]
  },
  {
   "cell_type": "code",
   "execution_count": 4,
   "metadata": {},
   "outputs": [],
   "source": [
    "basic_features = pd.read_csv('basic_features_test.csv') \n",
    "time_features = pd.read_csv('time_features_test.csv')\n",
    "content_features = pd.read_csv('content_features_test.csv')\n",
    "additional_features = pd.read_csv('additional_features_test.csv')\n",
    "flow_features = pd.read_csv('flow_features_test.csv')\n",
    "\n",
    "merged_test = pd.merge(basic_features, time_features, how='left', on='id')\n",
    "merged_test = pd.merge(merged_test, content_features, how='left', on='id')\n",
    "merged_test = pd.merge(merged_test, additional_features, how='left', on='id')\n",
    "merged_test = pd.merge(merged_test, flow_features, how='left', on='id')"
   ]
  }
 ],
 "metadata": {
  "kernelspec": {
   "display_name": "Python 3",
   "language": "python",
   "name": "python3"
  },
  "language_info": {
   "codemirror_mode": {
    "name": "ipython",
    "version": 3
   },
   "file_extension": ".py",
   "mimetype": "text/x-python",
   "name": "python",
   "nbconvert_exporter": "python",
   "pygments_lexer": "ipython3",
   "version": "3.13.0"
  }
 },
 "nbformat": 4,
 "nbformat_minor": 2
}
